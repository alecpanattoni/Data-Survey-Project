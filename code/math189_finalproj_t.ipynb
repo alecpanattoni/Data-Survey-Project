{
  "nbformat": 4,
  "nbformat_minor": 0,
  "metadata": {
    "kernelspec": {
      "display_name": "Python 3",
      "language": "python",
      "name": "python3"
    },
    "language_info": {
      "codemirror_mode": {
        "name": "ipython",
        "version": 3
      },
      "file_extension": ".py",
      "mimetype": "text/x-python",
      "name": "python",
      "nbconvert_exporter": "python",
      "pygments_lexer": "ipython3",
      "version": "3.8.3"
    },
    "colab": {
      "name": "math189_finalproj_t.ipynb",
      "provenance": [],
      "toc_visible": true
    }
  },
  "cells": [
    {
      "cell_type": "markdown",
      "metadata": {
        "id": "gdXq9aejmNfv"
      },
      "source": [
        "# Determining if Jupyter Notebook is the Right Tool for Students Based on Industry Recognition"
      ]
    },
    {
      "cell_type": "markdown",
      "metadata": {
        "id": "S6INOG-FmNfz"
      },
      "source": [
        "Authors:\n",
        "\n",
        "Tyler Tran, Alec Panattoni"
      ]
    },
    {
      "cell_type": "code",
      "metadata": {
        "id": "BNNRa3oSmNf0"
      },
      "source": [
        "import pandas as pd\n",
        "import numpy as np\n",
        "import math\n",
        "import matplotlib.pyplot as plt\n",
        "import seaborn as sns"
      ],
      "execution_count": 1,
      "outputs": []
    },
    {
      "cell_type": "code",
      "metadata": {
        "colab": {
          "base_uri": "https://localhost:8080/",
          "height": 768
        },
        "id": "1Ca5Jq7DmNf1",
        "outputId": "1d5ac36e-be3a-46d7-8dd5-bee7dc9de7e0"
      },
      "source": [
        "# Reading in wrangled Kaggle 2020 Survey\n",
        "survey = pd.read_csv(\"survey.csv\", dtype = 'unicode')\n",
        "survey = survey.drop(columns = \"Unnamed: 0\")\n",
        "survey.head(5)"
      ],
      "execution_count": 2,
      "outputs": [
        {
          "output_type": "execute_result",
          "data": {
            "text/html": [
              "<div>\n",
              "<style scoped>\n",
              "    .dataframe tbody tr th:only-of-type {\n",
              "        vertical-align: middle;\n",
              "    }\n",
              "\n",
              "    .dataframe tbody tr th {\n",
              "        vertical-align: top;\n",
              "    }\n",
              "\n",
              "    .dataframe thead th {\n",
              "        text-align: right;\n",
              "    }\n",
              "</style>\n",
              "<table border=\"1\" class=\"dataframe\">\n",
              "  <thead>\n",
              "    <tr style=\"text-align: right;\">\n",
              "      <th></th>\n",
              "      <th>Time from Start to Finish (seconds)</th>\n",
              "      <th>Q1</th>\n",
              "      <th>Q2</th>\n",
              "      <th>Q3</th>\n",
              "      <th>Q4</th>\n",
              "      <th>Q5</th>\n",
              "      <th>Q6</th>\n",
              "      <th>Q7</th>\n",
              "      <th>Q8</th>\n",
              "      <th>Q9</th>\n",
              "      <th>Q10</th>\n",
              "      <th>Q11</th>\n",
              "      <th>Q12</th>\n",
              "      <th>Q13</th>\n",
              "      <th>Q14</th>\n",
              "      <th>Q15</th>\n",
              "      <th>Q16</th>\n",
              "      <th>Q17</th>\n",
              "      <th>Q18</th>\n",
              "      <th>Q19</th>\n",
              "      <th>Q20</th>\n",
              "      <th>Q21</th>\n",
              "      <th>Q22</th>\n",
              "      <th>Q23</th>\n",
              "      <th>Q24</th>\n",
              "      <th>Q25</th>\n",
              "      <th>Q26</th>\n",
              "      <th>Q27</th>\n",
              "      <th>Q28</th>\n",
              "      <th>Q29</th>\n",
              "      <th>Q30</th>\n",
              "      <th>Q31</th>\n",
              "      <th>Q32</th>\n",
              "      <th>Q33</th>\n",
              "      <th>Q34</th>\n",
              "      <th>Q35</th>\n",
              "      <th>Q36</th>\n",
              "      <th>Q37</th>\n",
              "      <th>Q38</th>\n",
              "      <th>Q39</th>\n",
              "    </tr>\n",
              "  </thead>\n",
              "  <tbody>\n",
              "    <tr>\n",
              "      <th>0</th>\n",
              "      <td>Duration (in seconds)</td>\n",
              "      <td>What is your age (# years)?</td>\n",
              "      <td>What is your gender? - Selected Choice</td>\n",
              "      <td>In which country do you currently reside?</td>\n",
              "      <td>What is the highest level of formal education ...</td>\n",
              "      <td>Select the title most similar to your current ...</td>\n",
              "      <td>For how many years have you been writing code ...</td>\n",
              "      <td>What programming languages do you use on a reg...</td>\n",
              "      <td>What programming language would you recommend ...</td>\n",
              "      <td>Which of the following integrated development ...</td>\n",
              "      <td>Which of the following hosted notebook product...</td>\n",
              "      <td>What type of computing platform do you use mos...</td>\n",
              "      <td>Which types of specialized hardware do you use...</td>\n",
              "      <td>Approximately how many times have you used a T...</td>\n",
              "      <td>What data visualization libraries or tools do ...</td>\n",
              "      <td>For how many years have you used machine learn...</td>\n",
              "      <td>Which of the following machine learning framew...</td>\n",
              "      <td>Which of the following ML algorithms do you us...</td>\n",
              "      <td>Which categories of computer vision methods do...</td>\n",
              "      <td>Which of the following natural language proces...</td>\n",
              "      <td>What is the size of the company where you are ...</td>\n",
              "      <td>Approximately how many individuals are respons...</td>\n",
              "      <td>Does your current employer incorporate machine...</td>\n",
              "      <td>Select any activities that make up an importan...</td>\n",
              "      <td>What is your current yearly compensation (appr...</td>\n",
              "      <td>Approximately how much money have you (or your...</td>\n",
              "      <td>Which of the following cloud computing platfor...</td>\n",
              "      <td>Do you use any of the following cloud computin...</td>\n",
              "      <td>Do you use any of the following machine learni...</td>\n",
              "      <td>Which of the following big data products (rela...</td>\n",
              "      <td>Which of the following big data products (rela...</td>\n",
              "      <td>Which of the following business intelligence t...</td>\n",
              "      <td>Which of the following business intelligence t...</td>\n",
              "      <td>Do you use any automated machine learning tool...</td>\n",
              "      <td>Which of the following automated machine learn...</td>\n",
              "      <td>Do you use any tools to help manage machine le...</td>\n",
              "      <td>Where do you publicly share or deploy your dat...</td>\n",
              "      <td>On which platforms have you begun or completed...</td>\n",
              "      <td>What is the primary tool that you use at work ...</td>\n",
              "      <td>Who/what are your favorite media sources that ...</td>\n",
              "    </tr>\n",
              "    <tr>\n",
              "      <th>1</th>\n",
              "      <td>1838</td>\n",
              "      <td>35-39</td>\n",
              "      <td>Man</td>\n",
              "      <td>Colombia</td>\n",
              "      <td>Doctoral degree</td>\n",
              "      <td>Student</td>\n",
              "      <td>5-10 years</td>\n",
              "      <td>'Python', 'R', 'SQL', 'C', 'Javascript', 'MATL...</td>\n",
              "      <td>Python</td>\n",
              "      <td>'Jupyter (JupyterLab, Jupyter Notebooks, etc)'...</td>\n",
              "      <td>'Kaggle Notebooks', 'Colab Notebooks'</td>\n",
              "      <td>A cloud computing platform (AWS, Azure, GCP, h...</td>\n",
              "      <td>'GPUs'</td>\n",
              "      <td>2-5 times</td>\n",
              "      <td>'Matplotlib', 'Geoplotlib'</td>\n",
              "      <td>1-2 years</td>\n",
              "      <td>'TensorFlow', 'Keras', 'Xgboost'</td>\n",
              "      <td>'Decision Trees or Random Forests', 'Gradient ...</td>\n",
              "      <td>'Image classification and other general purpos...</td>\n",
              "      <td>'Word embeddings/vectors (GLoVe, fastText, wor...</td>\n",
              "      <td>NaN</td>\n",
              "      <td>NaN</td>\n",
              "      <td>NaN</td>\n",
              "      <td>NaN</td>\n",
              "      <td>NaN</td>\n",
              "      <td>NaN</td>\n",
              "      <td>'Amazon Web Services (AWS)', 'Microsoft Azure'...</td>\n",
              "      <td>'Azure Cloud Services', 'Microsoft Azure Conta...</td>\n",
              "      <td>'Amazon SageMaker', 'Amazon Forecast', 'Amazon...</td>\n",
              "      <td>'MongoDB', 'Microsoft SQL Server', 'Google Clo...</td>\n",
              "      <td>NaN</td>\n",
              "      <td>'Microsoft Power BI', 'Amazon QuickSight', 'Go...</td>\n",
              "      <td>NaN</td>\n",
              "      <td>'Automated data augmentation (e.g. imgaug, alb...</td>\n",
              "      <td>'Google Cloud AutoML', 'Databricks AutoML', 'A...</td>\n",
              "      <td>'TensorBoard'</td>\n",
              "      <td>NaN</td>\n",
              "      <td>'Coursera', 'Kaggle Learn Courses', 'Universit...</td>\n",
              "      <td>Basic statistical software (Microsoft Excel, G...</td>\n",
              "      <td>'Kaggle (notebooks, forums, etc)', 'Journal Pu...</td>\n",
              "    </tr>\n",
              "    <tr>\n",
              "      <th>2</th>\n",
              "      <td>289287</td>\n",
              "      <td>30-34</td>\n",
              "      <td>Man</td>\n",
              "      <td>United States of America</td>\n",
              "      <td>Master’s degree</td>\n",
              "      <td>Data Engineer</td>\n",
              "      <td>5-10 years</td>\n",
              "      <td>'Python', 'R', 'SQL'</td>\n",
              "      <td>Python</td>\n",
              "      <td>'Visual Studio', 'PyCharm', 'Sublime Text'</td>\n",
              "      <td>'Colab Notebooks'</td>\n",
              "      <td>A personal computer or laptop</td>\n",
              "      <td>'GPUs'</td>\n",
              "      <td>2-5 times</td>\n",
              "      <td>'Matplotlib', 'Seaborn', 'Ggplot / ggplot2', '...</td>\n",
              "      <td>1-2 years</td>\n",
              "      <td>'Scikit-learn', 'TensorFlow', 'Keras', 'PyTorch'</td>\n",
              "      <td>'Linear or Logistic Regression', 'Convolutiona...</td>\n",
              "      <td>'Image segmentation methods (U-Net, Mask R-CNN...</td>\n",
              "      <td>'Contextualized embeddings (ELMo, CoVe)', 'Tra...</td>\n",
              "      <td>10,000 or more employees</td>\n",
              "      <td>20+</td>\n",
              "      <td>We have well established ML methods (i.e., mod...</td>\n",
              "      <td>'Analyze and understand data to influence prod...</td>\n",
              "      <td>100,000-124,999</td>\n",
              "      <td>$100,000 or more ($USD)</td>\n",
              "      <td>'Amazon Web Services (AWS)', 'Microsoft Azure'...</td>\n",
              "      <td>'Amazon EC2', 'AWS Lambda', 'Azure Functions',...</td>\n",
              "      <td>'Amazon SageMaker'</td>\n",
              "      <td>'PostgresSQL', 'Amazon Redshift', 'Amazon Athena'</td>\n",
              "      <td>PostgresSQL</td>\n",
              "      <td>'Amazon QuickSight', 'Microsoft Power BI', 'Ta...</td>\n",
              "      <td>Microsoft Power BI</td>\n",
              "      <td>'No / None'</td>\n",
              "      <td>NaN</td>\n",
              "      <td>'No / None'</td>\n",
              "      <td>'GitHub'</td>\n",
              "      <td>'Coursera', 'DataCamp', 'Udemy'</td>\n",
              "      <td>Business intelligence software (Salesforce, Ta...</td>\n",
              "      <td>'Twitter (data science influencers)', 'Reddit ...</td>\n",
              "    </tr>\n",
              "    <tr>\n",
              "      <th>3</th>\n",
              "      <td>860</td>\n",
              "      <td>35-39</td>\n",
              "      <td>Man</td>\n",
              "      <td>Argentina</td>\n",
              "      <td>Bachelor’s degree</td>\n",
              "      <td>Software Engineer</td>\n",
              "      <td>10-20 years</td>\n",
              "      <td>'Java', 'Javascript', 'Bash'</td>\n",
              "      <td>R</td>\n",
              "      <td>'Visual Studio Code (VSCode)', 'Notepad++', 'S...</td>\n",
              "      <td>'None'</td>\n",
              "      <td>A personal computer or laptop</td>\n",
              "      <td>'None'</td>\n",
              "      <td>Never</td>\n",
              "      <td>'D3 js'</td>\n",
              "      <td>I do not use machine learning methods</td>\n",
              "      <td>NaN</td>\n",
              "      <td>NaN</td>\n",
              "      <td>NaN</td>\n",
              "      <td>NaN</td>\n",
              "      <td>1000-9,999 employees</td>\n",
              "      <td>0</td>\n",
              "      <td>No (we do not use ML methods)</td>\n",
              "      <td>'None of these activities are an important par...</td>\n",
              "      <td>15,000-19,999</td>\n",
              "      <td>$0 ($USD)</td>\n",
              "      <td>'None', 'None'</td>\n",
              "      <td>NaN</td>\n",
              "      <td>NaN</td>\n",
              "      <td>'MySQL', 'MySQL', 'Microsoft SQL Server'</td>\n",
              "      <td>NaN</td>\n",
              "      <td>'None', 'None'</td>\n",
              "      <td>NaN</td>\n",
              "      <td>'No / None', 'None'</td>\n",
              "      <td>NaN</td>\n",
              "      <td>'No / None', 'None'</td>\n",
              "      <td>NaN</td>\n",
              "      <td>'Coursera', 'edX', 'Udacity', 'Udemy'</td>\n",
              "      <td>Basic statistical software (Microsoft Excel, G...</td>\n",
              "      <td>\"Email newsletters (Data Elixir, O'Reilly Data...</td>\n",
              "    </tr>\n",
              "    <tr>\n",
              "      <th>4</th>\n",
              "      <td>507</td>\n",
              "      <td>30-34</td>\n",
              "      <td>Man</td>\n",
              "      <td>United States of America</td>\n",
              "      <td>Master’s degree</td>\n",
              "      <td>Data Scientist</td>\n",
              "      <td>5-10 years</td>\n",
              "      <td>'Python', 'SQL', 'Bash'</td>\n",
              "      <td>Python</td>\n",
              "      <td>'PyCharm'</td>\n",
              "      <td>'None'</td>\n",
              "      <td>A cloud computing platform (AWS, Azure, GCP, h...</td>\n",
              "      <td>'None'</td>\n",
              "      <td>2-5 times</td>\n",
              "      <td>'Matplotlib', 'Seaborn', 'Plotly / Plotly Expr...</td>\n",
              "      <td>3-4 years</td>\n",
              "      <td>'Scikit-learn', 'TensorFlow', 'Keras', 'Xgboost'</td>\n",
              "      <td>'Linear or Logistic Regression', 'Decision Tre...</td>\n",
              "      <td>NaN</td>\n",
              "      <td>NaN</td>\n",
              "      <td>250-999 employees</td>\n",
              "      <td>5-9</td>\n",
              "      <td>We have well established ML methods (i.e., mod...</td>\n",
              "      <td>'Analyze and understand data to influence prod...</td>\n",
              "      <td>125,000-149,999</td>\n",
              "      <td>$10,000-$99,999</td>\n",
              "      <td>'Amazon Web Services (AWS)', 'Salesforce Cloud'</td>\n",
              "      <td>'Amazon EC2', 'AWS Lambda'</td>\n",
              "      <td>'No / None'</td>\n",
              "      <td>'MySQL', 'Amazon Redshift'</td>\n",
              "      <td>MySQL</td>\n",
              "      <td>'Tableau'</td>\n",
              "      <td>NaN</td>\n",
              "      <td>'No / None'</td>\n",
              "      <td>NaN</td>\n",
              "      <td>'No / None'</td>\n",
              "      <td>'I do not share my work publicly'</td>\n",
              "      <td>'Coursera', 'DataCamp', 'LinkedIn Learning', '...</td>\n",
              "      <td>Local development environments (RStudio, Jupyt...</td>\n",
              "      <td>'None'</td>\n",
              "    </tr>\n",
              "  </tbody>\n",
              "</table>\n",
              "</div>"
            ],
            "text/plain": [
              "  Time from Start to Finish (seconds)  ...                                                Q39\n",
              "0               Duration (in seconds)  ...  Who/what are your favorite media sources that ...\n",
              "1                                1838  ...  'Kaggle (notebooks, forums, etc)', 'Journal Pu...\n",
              "2                              289287  ...  'Twitter (data science influencers)', 'Reddit ...\n",
              "3                                 860  ...  \"Email newsletters (Data Elixir, O'Reilly Data...\n",
              "4                                 507  ...                                             'None'\n",
              "\n",
              "[5 rows x 40 columns]"
            ]
          },
          "metadata": {
            "tags": []
          },
          "execution_count": 2
        }
      ]
    },
    {
      "cell_type": "code",
      "metadata": {
        "id": "HhOwWMBGmNf4"
      },
      "source": [
        "# Not counting row with question descriptions\n",
        "observations = survey.shape[0] - 1"
      ],
      "execution_count": 3,
      "outputs": []
    },
    {
      "cell_type": "code",
      "metadata": {
        "colab": {
          "base_uri": "https://localhost:8080/"
        },
        "id": "FYmarrXPmNf5",
        "outputId": "4ab72f54-2357-41b5-d943-3d428f81dc83"
      },
      "source": [
        "survey[\"Q24\"].unique()"
      ],
      "execution_count": 4,
      "outputs": [
        {
          "output_type": "execute_result",
          "data": {
            "text/plain": [
              "array(['What is your current yearly compensation (approximate $USD)?',\n",
              "       nan, '100,000-124,999', '15,000-19,999', '125,000-149,999',\n",
              "       '70,000-79,999', '30,000-39,999', '90,000-99,999', '1,000-1,999',\n",
              "       '$0-999', '10,000-14,999', '150,000-199,999', '60,000-69,999',\n",
              "       '4,000-4,999', '> $500,000', '300,000-500,000', '40,000-49,999',\n",
              "       '25,000-29,999', '80,000-89,999', '7,500-9,999', '50,000-59,999',\n",
              "       '250,000-299,999', '5,000-7,499', '2,000-2,999', '20,000-24,999',\n",
              "       '200,000-249,999', '3,000-3,999'], dtype=object)"
            ]
          },
          "metadata": {
            "tags": []
          },
          "execution_count": 4
        }
      ]
    },
    {
      "cell_type": "markdown",
      "metadata": {
        "id": "ecKuNO4tmNf6"
      },
      "source": [
        "### Question 1"
      ]
    },
    {
      "cell_type": "markdown",
      "metadata": {
        "id": "93kJS729mNf7"
      },
      "source": [
        "#### Calculating proportion of survey respondents who used Jupyter."
      ]
    },
    {
      "cell_type": "code",
      "metadata": {
        "colab": {
          "base_uri": "https://localhost:8080/"
        },
        "id": "K_8oFjWrmNf7",
        "outputId": "d5aa95bc-6224-4846-d54b-e65bb292bca6"
      },
      "source": [
        "# Counting missing values as non-Jupyter for proportion calculation\n",
        "responses = survey[\"Q9\"].str.contains('Jupyter').fillna(value=False).value_counts()\n",
        "chose_jupyter = responses.get(True)\n",
        "jupyter_users_prop = chose_jupyter / observations\n",
        "jupyter_users_prop"
      ],
      "execution_count": 5,
      "outputs": [
        {
          "output_type": "execute_result",
          "data": {
            "text/plain": [
              "0.5595428229187462"
            ]
          },
          "metadata": {
            "tags": []
          },
          "execution_count": 5
        }
      ]
    },
    {
      "cell_type": "code",
      "metadata": {
        "id": "JYhzV0G0mNf8"
      },
      "source": [
        "def calc_conf_interval90(prop: float, z_score: float, obs: int):\n",
        "    \"\"\"Take proportion, z_score, and observation count to calculate\n",
        "    corresponding confidence interval.\"\"\"\n",
        "\n",
        "    interval_low = np.round(prop - (z_score * np.sqrt(prop * (1 - prop) / obs)),\n",
        "                            decimals = 2)\n",
        "    interval_high = np.round(prop + (z_score * np.sqrt(prop * (1 - prop) / obs)),\n",
        "                            decimals = 2)\n",
        "    return (interval_low, interval_high)\n"
      ],
      "execution_count": 6,
      "outputs": []
    },
    {
      "cell_type": "code",
      "metadata": {
        "colab": {
          "base_uri": "https://localhost:8080/"
        },
        "id": "KLYMq0eGmNf8",
        "outputId": "1f19a8ac-b109-4401-eee2-98c4a16eef44"
      },
      "source": [
        "ninety_percent_z = 1.645\n",
        "jupyter_user_interval = (\n",
        "    calc_conf_interval90(jupyter_users_prop, ninety_percent_z, observations)\n",
        "    )\n",
        "jupyter_user_interval"
      ],
      "execution_count": 7,
      "outputs": [
        {
          "output_type": "execute_result",
          "data": {
            "text/plain": [
              "(0.55, 0.57)"
            ]
          },
          "metadata": {
            "tags": []
          },
          "execution_count": 7
        }
      ]
    },
    {
      "cell_type": "markdown",
      "metadata": {
        "id": "ggyaVXhsmNf9"
      },
      "source": [
        "#### Calculating proportion of students who used Jupyter."
      ]
    },
    {
      "cell_type": "code",
      "metadata": {
        "colab": {
          "base_uri": "https://localhost:8080/"
        },
        "id": "1SgdB_3SmNf9",
        "outputId": "d188d655-fbfc-49e3-8c6e-f806d5832130"
      },
      "source": [
        "students = survey[survey[\"Q5\"] == \"Student\"]\n",
        "student_responses = students[\"Q9\"].str.contains('Jupyter').fillna(value=False).value_counts()\n",
        "s_chose_jupyter = student_responses.get(True)\n",
        "students_jupyter_prop = s_chose_jupyter / student_responses.sum()\n",
        "np.round(students_jupyter_prop, decimals = 2)"
      ],
      "execution_count": 8,
      "outputs": [
        {
          "output_type": "execute_result",
          "data": {
            "text/plain": [
              "0.6"
            ]
          },
          "metadata": {
            "tags": []
          },
          "execution_count": 8
        }
      ]
    },
    {
      "cell_type": "code",
      "metadata": {
        "colab": {
          "base_uri": "https://localhost:8080/"
        },
        "id": "_AqlZJIgmNf-",
        "outputId": "a91bebec-030c-446e-d2f0-55b90d335fa6"
      },
      "source": [
        "student_user_interval = (\n",
        "    calc_conf_interval90(students_jupyter_prop, ninety_percent_z, student_responses.sum())\n",
        "    )\n",
        "student_user_interval"
      ],
      "execution_count": 9,
      "outputs": [
        {
          "output_type": "execute_result",
          "data": {
            "text/plain": [
              "(0.59, 0.61)"
            ]
          },
          "metadata": {
            "tags": []
          },
          "execution_count": 9
        }
      ]
    },
    {
      "cell_type": "markdown",
      "metadata": {
        "id": "B6DLyHIjmNf-"
      },
      "source": [
        "#### Calculating proportion of working professionals who used Jupyter"
      ]
    },
    {
      "cell_type": "code",
      "metadata": {
        "colab": {
          "base_uri": "https://localhost:8080/"
        },
        "id": "dNwMsQ6dmNf_",
        "outputId": "b7071a5e-2523-49e5-d047-c3abca21a94a"
      },
      "source": [
        "# not counting unemployed\n",
        "pros = survey[(survey[\"Q5\"] != \"Student\") & (survey[\"Q5\"] != \"Currently not employed\")]\n",
        "pro_responses = pros[\"Q9\"].str.contains('Jupyter').fillna(value=False).value_counts()\n",
        "pro_chose_jupyter = pro_responses.get(True)\n",
        "pro_jupyter_prop = pro_chose_jupyter / pro_responses.sum()\n",
        "np.round(pro_jupyter_prop, decimals = 2)"
      ],
      "execution_count": 10,
      "outputs": [
        {
          "output_type": "execute_result",
          "data": {
            "text/plain": [
              "0.54"
            ]
          },
          "metadata": {
            "tags": []
          },
          "execution_count": 10
        }
      ]
    },
    {
      "cell_type": "code",
      "metadata": {
        "colab": {
          "base_uri": "https://localhost:8080/"
        },
        "id": "brecwv8UmNf_",
        "outputId": "e620fece-775e-4950-f81c-5cfb82f3ba86"
      },
      "source": [
        "pro_user_interval = (\n",
        "    calc_conf_interval90(pro_jupyter_prop, ninety_percent_z, pro_responses.sum())\n",
        "    )\n",
        "pro_user_interval"
      ],
      "execution_count": 11,
      "outputs": [
        {
          "output_type": "execute_result",
          "data": {
            "text/plain": [
              "(0.53, 0.55)"
            ]
          },
          "metadata": {
            "tags": []
          },
          "execution_count": 11
        }
      ]
    },
    {
      "cell_type": "code",
      "metadata": {
        "colab": {
          "base_uri": "https://localhost:8080/"
        },
        "id": "Yy46av6cmNgA",
        "outputId": "3f02404b-d955-4672-a76d-185be7ca9537"
      },
      "source": [
        "observed_diff = students_jupyter_prop - pro_jupyter_prop\n",
        "observed_diff"
      ],
      "execution_count": 12,
      "outputs": [
        {
          "output_type": "execute_result",
          "data": {
            "text/plain": [
              "0.056529459255970416"
            ]
          },
          "metadata": {
            "tags": []
          },
          "execution_count": 12
        }
      ]
    },
    {
      "cell_type": "code",
      "metadata": {
        "id": "iPr3CJAFmNgA"
      },
      "source": [
        "# Bootstrapping for differences\n",
        "num_bootstraps = 1000\n",
        "statistics = np.zeros(num_bootstraps)\n",
        "for boot in range(num_bootstraps):\n",
        "    student_sample = students.sample(students.shape[0], replace = True)\n",
        "    student_resp = (student_sample[\"Q9\"]\n",
        "                   .str.contains('Jupyter')\n",
        "                   .fillna(value=False).value_counts())\n",
        "    student_jup = student_resp.get(True)\n",
        "    student_prop = student_jup / student_resp.sum()\n",
        "    \n",
        "    pro_sample = pros.sample(pros.shape[0], replace = True)\n",
        "    pro_resp = (pro_sample[\"Q9\"]\n",
        "                   .str.contains('Jupyter')\n",
        "                   .fillna(value=False).value_counts())\n",
        "    pro_jup = pro_resp.get(True)\n",
        "    pro_prop = pro_jup / pro_resp.sum()\n",
        "    statistics[boot] = student_prop - pro_prop\n"
      ],
      "execution_count": 13,
      "outputs": []
    },
    {
      "cell_type": "code",
      "metadata": {
        "colab": {
          "base_uri": "https://localhost:8080/"
        },
        "id": "xYeYjIuymNgB",
        "outputId": "6b2305ba-61f1-4352-fa3f-abe36d6934b1"
      },
      "source": [
        "# Calculate p-value\n",
        "p_value = np.count_nonzero(statistics >= observed_diff) / num_bootstraps\n",
        "p_value"
      ],
      "execution_count": 14,
      "outputs": [
        {
          "output_type": "execute_result",
          "data": {
            "text/plain": [
              "0.512"
            ]
          },
          "metadata": {
            "tags": []
          },
          "execution_count": 14
        }
      ]
    },
    {
      "cell_type": "code",
      "metadata": {
        "colab": {
          "base_uri": "https://localhost:8080/",
          "height": 282
        },
        "id": "m1stvBHEmNgB",
        "outputId": "6e0c5d87-e79f-41ac-99c5-f0986d4f2cda"
      },
      "source": [
        "# style and display plot\n",
        "sns.set_style(\"dark\")\n",
        "sns.histplot(statistics, stat = \"density\", kde = True)\n",
        "plt.scatter(observed_diff, 0.75, color = \"red\", s=50, zorder= 10, label = \"Observed Difference\")\n",
        "plt.legend()\n",
        "plt.figure(figsize=(15,8))\n",
        "plt.show()"
      ],
      "execution_count": 15,
      "outputs": [
        {
          "output_type": "display_data",
          "data": {
            "image/png": "[encoded data removed]",
            "text/plain": [
              "<Figure size 432x288 with 1 Axes>"
            ]
          },
          "metadata": {
            "tags": []
          }
        },
        {
          "output_type": "display_data",
          "data": {
            "text/plain": [
              "<Figure size 1080x576 with 0 Axes>"
            ]
          },
          "metadata": {
            "tags": []
          }
        }
      ]
    },
    {
      "cell_type": "code",
      "metadata": {
        "colab": {
          "base_uri": "https://localhost:8080/"
        },
        "id": "WYK5BptkmNgC",
        "outputId": "6c1fc4d6-6391-4ca5-a610-7834da429ea0"
      },
      "source": [
        "np.min(statistics), np.max(statistics)"
      ],
      "execution_count": 16,
      "outputs": [
        {
          "output_type": "execute_result",
          "data": {
            "text/plain": [
              "(0.029421336822226696, 0.08085449768661002)"
            ]
          },
          "metadata": {
            "tags": []
          },
          "execution_count": 16
        }
      ]
    },
    {
      "cell_type": "markdown",
      "metadata": {
        "id": "ecbEoDoomNgC"
      },
      "source": [
        "### Question 2"
      ]
    },
    {
      "cell_type": "code",
      "metadata": {
        "id": "BR5hZBlemNgD"
      },
      "source": [
        "from scipy.stats import binom_test"
      ],
      "execution_count": 17,
      "outputs": []
    },
    {
      "cell_type": "code",
      "metadata": {
        "id": "wX2KHCLrmNgE"
      },
      "source": [
        "# Subsetting data for us and international users\n",
        "us_users = survey[survey[\"Q3\"] == \"United States of America\"]\n",
        "abroad_users = survey[survey[\"Q3\"] != \"United States of America\"]"
      ],
      "execution_count": 18,
      "outputs": []
    },
    {
      "cell_type": "code",
      "metadata": {
        "colab": {
          "base_uri": "https://localhost:8080/"
        },
        "id": "vNKcLTHAmNgE",
        "outputId": "2fe5fb7b-7be8-4ca1-fb1b-35c604b1f949"
      },
      "source": [
        "# Getting counts of users who use vs don't use Jupyter for each subset\n",
        "us_rec_jup = us_users[\"Q9\"].str.contains('Jupyter').fillna(value=False).value_counts()\n",
        "abroad_rec_jup = abroad_users[\"Q9\"].str.contains('Jupyter').fillna(value=False).value_counts()\n",
        "\n",
        "us_rec_jup, abroad_rec_jup"
      ],
      "execution_count": 19,
      "outputs": [
        {
          "output_type": "execute_result",
          "data": {
            "text/plain": [
              "(True     1227\n",
              " False    1010\n",
              " Name: Q9, dtype: int64, True     9984\n",
              " False    7816\n",
              " Name: Q9, dtype: int64)"
            ]
          },
          "metadata": {
            "tags": []
          },
          "execution_count": 19
        }
      ]
    },
    {
      "cell_type": "code",
      "metadata": {
        "colab": {
          "base_uri": "https://localhost:8080/"
        },
        "id": "EPDhVPwJmNgE",
        "outputId": "44c57e7d-abfd-41a7-c8b4-e2598280e26e"
      },
      "source": [
        "abroad_rec_prop = abroad_rec_jup[True] / abroad_rec_jup.sum()\n",
        "abroad_rec_prop"
      ],
      "execution_count": 20,
      "outputs": [
        {
          "output_type": "execute_result",
          "data": {
            "text/plain": [
              "0.5608988764044944"
            ]
          },
          "metadata": {
            "tags": []
          },
          "execution_count": 20
        }
      ]
    },
    {
      "cell_type": "code",
      "metadata": {
        "colab": {
          "base_uri": "https://localhost:8080/"
        },
        "id": "iju4AQ1EmNgF",
        "outputId": "c88e50d6-1398-41f8-86af-f8084da9f87d"
      },
      "source": [
        "us_rec_prop = us_rec_jup[True] / us_rec_jup.sum()\n",
        "us_rec_prop"
      ],
      "execution_count": 21,
      "outputs": [
        {
          "output_type": "execute_result",
          "data": {
            "text/plain": [
              "0.5485024586499776"
            ]
          },
          "metadata": {
            "tags": []
          },
          "execution_count": 21
        }
      ]
    },
    {
      "cell_type": "code",
      "metadata": {
        "colab": {
          "base_uri": "https://localhost:8080/"
        },
        "id": "U_MTpCSbmNgF",
        "outputId": "c029bf0d-26d9-4cc3-dbf5-d68bb023097f"
      },
      "source": [
        "# Running a binomial test for proportion of Jupyter to see if different than observed abroad rec_prop\n",
        "binom_test(us_rec_jup[True], n = us_rec_jup.sum(), p = abroad_rec_prop)"
      ],
      "execution_count": 22,
      "outputs": [
        {
          "output_type": "execute_result",
          "data": {
            "text/plain": [
              "0.24137825855143724"
            ]
          },
          "metadata": {
            "tags": []
          },
          "execution_count": 22
        }
      ]
    },
    {
      "cell_type": "code",
      "metadata": {
        "id": "mFfHHAIWmNgG"
      },
      "source": [
        "# Repeating above procedure after further subsetting for only students\n",
        "us_students = us_users[us_users[\"Q5\"] == \"Student\"]\n",
        "abroad_students = abroad_users[abroad_users[\"Q5\"] == \"Student\"]"
      ],
      "execution_count": 23,
      "outputs": []
    },
    {
      "cell_type": "code",
      "metadata": {
        "id": "UQWKIOkGmNgG"
      },
      "source": [
        "us_student_rec = us_students[\"Q9\"].str.contains('Jupyter').fillna(value=False).value_counts()\n",
        "abroad_student_rec = abroad_students[\"Q9\"].str.contains('Jupyter').fillna(value=False).value_counts()"
      ],
      "execution_count": 24,
      "outputs": []
    },
    {
      "cell_type": "code",
      "metadata": {
        "colab": {
          "base_uri": "https://localhost:8080/"
        },
        "id": "ghxajzHemNgG",
        "outputId": "93dcf993-bb0c-4a59-89de-caf113cdc0c6"
      },
      "source": [
        "abroad_student_rec_prop = abroad_student_rec[True] / abroad_student_rec.sum()\n",
        "abroad_student_rec_prop"
      ],
      "execution_count": 25,
      "outputs": [
        {
          "output_type": "execute_result",
          "data": {
            "text/plain": [
              "0.6002490660024906"
            ]
          },
          "metadata": {
            "tags": []
          },
          "execution_count": 25
        }
      ]
    },
    {
      "cell_type": "code",
      "metadata": {
        "colab": {
          "base_uri": "https://localhost:8080/"
        },
        "id": "13BnHcw7mNgH",
        "outputId": "33f482d1-f06f-411b-a44b-74cbb4745ceb"
      },
      "source": [
        "us_student_rec_prop = us_student_rec[True] / us_student_rec.sum()\n",
        "us_student_rec_prop"
      ],
      "execution_count": 26,
      "outputs": [
        {
          "output_type": "execute_result",
          "data": {
            "text/plain": [
              "0.5495750708215298"
            ]
          },
          "metadata": {
            "tags": []
          },
          "execution_count": 26
        }
      ]
    },
    {
      "cell_type": "code",
      "metadata": {
        "colab": {
          "base_uri": "https://localhost:8080/"
        },
        "id": "ofaJrHQdmNgH",
        "outputId": "6f8ddbe4-85e4-46d0-8a2d-359814e08e46"
      },
      "source": [
        "binom_test(us_student_rec[True], n = us_student_rec.sum(), p = abroad_student_rec_prop)"
      ],
      "execution_count": 27,
      "outputs": [
        {
          "output_type": "execute_result",
          "data": {
            "text/plain": [
              "0.05709621262461691"
            ]
          },
          "metadata": {
            "tags": []
          },
          "execution_count": 27
        }
      ]
    },
    {
      "cell_type": "markdown",
      "metadata": {
        "id": "GyC5qFzDmNgH"
      },
      "source": [
        "### Question 3"
      ]
    },
    {
      "cell_type": "code",
      "metadata": {
        "id": "1adNxkuXmNgI"
      },
      "source": [
        "from scipy.stats import chi2_contingency"
      ],
      "execution_count": 28,
      "outputs": []
    },
    {
      "cell_type": "code",
      "metadata": {
        "id": "HjfMjmqjmNgI"
      },
      "source": [
        "# Subsetting data by experience with ML and then Jupyter with ML\n",
        "no_ML_exp = survey[survey.get(\"Q15\") == \"I do not use machine learning methods\"]\n",
        "ML_exp = survey[(survey.get(\"Q15\") != \"I do not use machine learning methods\") &\n",
        "                   (survey.get(\"Q9\") != \"Which of the following integrated development environments (IDE's) do you use on a regular basis?  (Select all that apply)\")]\n",
        "jupyter_ML = (ML_exp[\"Q9\"].str.contains(\n",
        "    'Jupyter').fillna(value=False).value_counts() / len(ML_exp)).get(True)\n",
        "jupyter_no_ML = (ML_exp[\"Q9\"].str.contains(\n",
        "    'Jupyter').fillna(value=False).value_counts() / len(ML_exp)).get(True)\n",
        "MLIDE_counts = {}\n",
        "MLIDEs = ML_exp.get(\"Q9\")\n",
        "\n",
        "# Counting experiences for IDEs for users with ML experience\n",
        "for person in MLIDEs:\n",
        "    if not isinstance(person, str):\n",
        "        continue\n",
        "    for ide in person.split(\"'\"):\n",
        "        if ide in MLIDE_counts:\n",
        "            MLIDE_counts[ide] += 1\n",
        "        else:\n",
        "            MLIDE_counts[ide] = 1\n",
        "del MLIDE_counts['']\n",
        "del MLIDE_counts[', ']\n",
        "no_MLIDE_counts = {}\n",
        "no_MLIDEs = no_ML_exp.get(\"Q9\")\n",
        "\n",
        "# Counting experiences for IDEs for users with no experience\n",
        "for person in no_MLIDEs:\n",
        "    if not isinstance(person, str):\n",
        "        continue\n",
        "    for ide in person.split(\"'\"):\n",
        "        if ide in no_MLIDE_counts:\n",
        "            no_MLIDE_counts[ide] += 1\n",
        "        else:\n",
        "            no_MLIDE_counts[ide] = 1\n",
        "del no_MLIDE_counts['']\n",
        "del no_MLIDE_counts[', ']\n",
        "MLIDE_props = {}\n",
        "\n",
        "# Creating proportions\n",
        "for ide, count in MLIDE_counts.items():\n",
        "    MLIDE_props[ide] = count / len(ML_exp)\n",
        "no_MLIDE_props = {}\n",
        "for ide, count in no_MLIDE_counts.items():\n",
        "    no_MLIDE_props[ide] = count / len(no_ML_exp)\n",
        "\n",
        "# Generating data frame from created ML response data\n",
        "\n",
        "IDE_props = pd.DataFrame().assign(\n",
        "    IDE = [ide for ide in MLIDE_props.keys()]\n",
        "    , MLexperience = [prop for prop in MLIDE_props.values()]\n",
        "    , noMLexperience = [prop for prop in no_MLIDE_props.values()])\n",
        "IDE_props = IDE_props.set_index(\"IDE\").sort_values(\n",
        "    \"MLexperience\", ascending = False)\n",
        "IDE_props = IDE_props.assign(difference = IDE_props.get(\n",
        "    \"MLexperience\") - IDE_props.get(\"noMLexperience\"))\n",
        "# Differences in proportions of the two groups appear to \n",
        "# be greatest with Jupyter, Pycharm, R, and Vim/Emacs"
      ],
      "execution_count": 29,
      "outputs": []
    },
    {
      "cell_type": "code",
      "metadata": {
        "colab": {
          "base_uri": "https://localhost:8080/",
          "height": 452
        },
        "id": "4Nvyee5zmNgJ",
        "outputId": "e7803c5f-fc19-4c03-901d-1dba9aeba2c7"
      },
      "source": [
        "IDE_props"
      ],
      "execution_count": 30,
      "outputs": [
        {
          "output_type": "execute_result",
          "data": {
            "text/html": [
              "<div>\n",
              "<style scoped>\n",
              "    .dataframe tbody tr th:only-of-type {\n",
              "        vertical-align: middle;\n",
              "    }\n",
              "\n",
              "    .dataframe tbody tr th {\n",
              "        vertical-align: top;\n",
              "    }\n",
              "\n",
              "    .dataframe thead th {\n",
              "        text-align: right;\n",
              "    }\n",
              "</style>\n",
              "<table border=\"1\" class=\"dataframe\">\n",
              "  <thead>\n",
              "    <tr style=\"text-align: right;\">\n",
              "      <th></th>\n",
              "      <th>MLexperience</th>\n",
              "      <th>noMLexperience</th>\n",
              "      <th>difference</th>\n",
              "    </tr>\n",
              "    <tr>\n",
              "      <th>IDE</th>\n",
              "      <th></th>\n",
              "      <th></th>\n",
              "      <th></th>\n",
              "    </tr>\n",
              "  </thead>\n",
              "  <tbody>\n",
              "    <tr>\n",
              "      <th>Jupyter (JupyterLab, Jupyter Notebooks, etc)</th>\n",
              "      <td>0.578030</td>\n",
              "      <td>0.300723</td>\n",
              "      <td>0.277307</td>\n",
              "    </tr>\n",
              "    <tr>\n",
              "      <th>Visual Studio Code (VSCode)</th>\n",
              "      <td>0.292244</td>\n",
              "      <td>0.197108</td>\n",
              "      <td>0.095136</td>\n",
              "    </tr>\n",
              "    <tr>\n",
              "      <th>PyCharm</th>\n",
              "      <td>0.256612</td>\n",
              "      <td>0.399518</td>\n",
              "      <td>-0.142907</td>\n",
              "    </tr>\n",
              "    <tr>\n",
              "      <th>RStudio</th>\n",
              "      <td>0.193363</td>\n",
              "      <td>0.084819</td>\n",
              "      <td>0.108544</td>\n",
              "    </tr>\n",
              "    <tr>\n",
              "      <th>Spyder</th>\n",
              "      <td>0.170035</td>\n",
              "      <td>0.122892</td>\n",
              "      <td>0.047144</td>\n",
              "    </tr>\n",
              "    <tr>\n",
              "      <th>Notepad++</th>\n",
              "      <td>0.151606</td>\n",
              "      <td>0.089639</td>\n",
              "      <td>0.061968</td>\n",
              "    </tr>\n",
              "    <tr>\n",
              "      <th>Sublime Text</th>\n",
              "      <td>0.122321</td>\n",
              "      <td>0.170120</td>\n",
              "      <td>-0.047800</td>\n",
              "    </tr>\n",
              "    <tr>\n",
              "      <th>Visual Studio</th>\n",
              "      <td>0.119704</td>\n",
              "      <td>0.052530</td>\n",
              "      <td>0.067174</td>\n",
              "    </tr>\n",
              "    <tr>\n",
              "      <th>MATLAB</th>\n",
              "      <td>0.082512</td>\n",
              "      <td>0.058795</td>\n",
              "      <td>0.023717</td>\n",
              "    </tr>\n",
              "    <tr>\n",
              "      <th>Vim / Emacs</th>\n",
              "      <td>0.077557</td>\n",
              "      <td>0.236145</td>\n",
              "      <td>-0.158588</td>\n",
              "    </tr>\n",
              "    <tr>\n",
              "      <th>Other</th>\n",
              "      <td>0.054340</td>\n",
              "      <td>0.142169</td>\n",
              "      <td>-0.087829</td>\n",
              "    </tr>\n",
              "    <tr>\n",
              "      <th>None</th>\n",
              "      <td>0.011692</td>\n",
              "      <td>0.113735</td>\n",
              "      <td>-0.102043</td>\n",
              "    </tr>\n",
              "  </tbody>\n",
              "</table>\n",
              "</div>"
            ],
            "text/plain": [
              "                                              MLexperience  ...  difference\n",
              "IDE                                                         ...            \n",
              "Jupyter (JupyterLab, Jupyter Notebooks, etc)      0.578030  ...    0.277307\n",
              "Visual Studio Code (VSCode)                       0.292244  ...    0.095136\n",
              "PyCharm                                           0.256612  ...   -0.142907\n",
              "RStudio                                           0.193363  ...    0.108544\n",
              "Spyder                                            0.170035  ...    0.047144\n",
              "Notepad++                                         0.151606  ...    0.061968\n",
              "Sublime Text                                      0.122321  ...   -0.047800\n",
              "Visual Studio                                     0.119704  ...    0.067174\n",
              "MATLAB                                            0.082512  ...    0.023717\n",
              "Vim / Emacs                                       0.077557  ...   -0.158588\n",
              "Other                                             0.054340  ...   -0.087829\n",
              "None                                              0.011692  ...   -0.102043\n",
              "\n",
              "[12 rows x 3 columns]"
            ]
          },
          "metadata": {
            "tags": []
          },
          "execution_count": 30
        }
      ]
    },
    {
      "cell_type": "code",
      "metadata": {
        "id": "nulaxrFXmNgK"
      },
      "source": [
        "# Creating contingency table\n",
        "ML_prop = len(ML_exp) / (len(survey) - 1)\n",
        "no_ML_prop = len(no_ML_exp) / (len(survey) - 1)\n",
        "Jupyter = chose_jupyter\n",
        "VScode = survey[\"Q9\"].str.contains(\n",
        "    'VSCode').fillna(value=False).value_counts().get(True)\n",
        "Pycharm = survey[\"Q9\"].str.contains(\n",
        "    'PyCharm').fillna(value=False).value_counts().get(True)\n",
        "NotePad = VScode = survey[\"Q9\"].str.contains(\n",
        "    'Notepad').fillna(value=False).value_counts().get(True)\n",
        "R = survey[\"Q9\"].str.contains(\n",
        "    'RStudio').fillna(value=False).value_counts().get(True)\n",
        "VStudio = survey[survey[\"Q9\"].str.contains(\n",
        "    'Visual Studio').fillna(value=False)]\n",
        "VStudio = VStudio[\"Q9\"].str.contains(\n",
        "    'VSCode', na=False).value_counts().get(True)\n",
        "Sublime = survey[\"Q9\"].str.contains(\n",
        "    'Sublime').fillna(value=False).value_counts().get(True)\n",
        "Spyder = survey[\"Q9\"].str.contains(\n",
        "    'Spyder').fillna(value=False).value_counts().get(True)\n",
        "Other = survey[\"Q9\"].str.contains(\n",
        "    'Other').fillna(value=False).value_counts().get(True)\n",
        "none = survey[\"Q9\"].str.contains(\n",
        "    'None').fillna(value=False).value_counts().get(True)\n",
        "matlab = survey[\"Q9\"].str.contains(\n",
        "    'MATLAB').fillna(value=False).value_counts().get(True)\n",
        "vimemacs = survey[\"Q9\"].str.contains(\n",
        "    'Emacs').fillna(value=False).value_counts().get(True)\n",
        "ide_counts_ = [VScode, NotePad, Sublime, vimemacs, Jupyter, R, none\n",
        "                 , Pycharm, Other, matlab, Spyder, VStudio]\n",
        "ide_counts = [Jupyter, VScode, Spyder, VStudio, Pycharm, Sublime, R\n",
        "              , vimemacs, NotePad, matlab, none, Other]\n",
        "obsvsexp = pd.DataFrame().assign(IDE = [ide for ide in MLIDE_counts.keys()]\n",
        "           , MLobs = [obs for obs in MLIDE_counts.values()]\n",
        "           , MLexp = [math.ceil((count * ML_prop)) for count in ide_counts]\n",
        "           , noMLobs = [obs for obs in no_MLIDE_counts.values()]\n",
        "           , noMLexp = [math.ceil(count * no_ML_prop) for count in ide_counts_]\n",
        "           ).sort_values(by = 'MLexp', ascending = False).set_index(\"IDE\")"
      ],
      "execution_count": 31,
      "outputs": []
    },
    {
      "cell_type": "code",
      "metadata": {
        "colab": {
          "base_uri": "https://localhost:8080/",
          "height": 452
        },
        "id": "1IEmvIeomNgL",
        "outputId": "21fb033e-49b4-4475-adee-c7f87d1c4456"
      },
      "source": [
        "obsvsexp"
      ],
      "execution_count": 32,
      "outputs": [
        {
          "output_type": "execute_result",
          "data": {
            "text/html": [
              "<div>\n",
              "<style scoped>\n",
              "    .dataframe tbody tr th:only-of-type {\n",
              "        vertical-align: middle;\n",
              "    }\n",
              "\n",
              "    .dataframe tbody tr th {\n",
              "        vertical-align: top;\n",
              "    }\n",
              "\n",
              "    .dataframe thead th {\n",
              "        text-align: right;\n",
              "    }\n",
              "</style>\n",
              "<table border=\"1\" class=\"dataframe\">\n",
              "  <thead>\n",
              "    <tr style=\"text-align: right;\">\n",
              "      <th></th>\n",
              "      <th>MLobs</th>\n",
              "      <th>MLexp</th>\n",
              "      <th>noMLobs</th>\n",
              "      <th>noMLexp</th>\n",
              "    </tr>\n",
              "    <tr>\n",
              "      <th>IDE</th>\n",
              "      <th></th>\n",
              "      <th></th>\n",
              "      <th></th>\n",
              "      <th></th>\n",
              "    </tr>\n",
              "  </thead>\n",
              "  <tbody>\n",
              "    <tr>\n",
              "      <th>Jupyter (JupyterLab, Jupyter Notebooks, etc)</th>\n",
              "      <td>10382</td>\n",
              "      <td>10050</td>\n",
              "      <td>624</td>\n",
              "      <td>325</td>\n",
              "    </tr>\n",
              "    <tr>\n",
              "      <th>Visual Studio</th>\n",
              "      <td>2150</td>\n",
              "      <td>5265</td>\n",
              "      <td>109</td>\n",
              "      <td>156</td>\n",
              "    </tr>\n",
              "    <tr>\n",
              "      <th>PyCharm</th>\n",
              "      <td>4609</td>\n",
              "      <td>4571</td>\n",
              "      <td>829</td>\n",
              "      <td>1162</td>\n",
              "    </tr>\n",
              "    <tr>\n",
              "      <th>RStudio</th>\n",
              "      <td>3473</td>\n",
              "      <td>3430</td>\n",
              "      <td>176</td>\n",
              "      <td>40</td>\n",
              "    </tr>\n",
              "    <tr>\n",
              "      <th>Spyder</th>\n",
              "      <td>3054</td>\n",
              "      <td>2950</td>\n",
              "      <td>255</td>\n",
              "      <td>254</td>\n",
              "    </tr>\n",
              "    <tr>\n",
              "      <th>Visual Studio Code (VSCode)</th>\n",
              "      <td>5249</td>\n",
              "      <td>2808</td>\n",
              "      <td>409</td>\n",
              "      <td>325</td>\n",
              "    </tr>\n",
              "    <tr>\n",
              "      <th>Notepad++</th>\n",
              "      <td>2723</td>\n",
              "      <td>2808</td>\n",
              "      <td>186</td>\n",
              "      <td>121</td>\n",
              "    </tr>\n",
              "    <tr>\n",
              "      <th>Sublime Text</th>\n",
              "      <td>2197</td>\n",
              "      <td>2199</td>\n",
              "      <td>353</td>\n",
              "      <td>397</td>\n",
              "    </tr>\n",
              "    <tr>\n",
              "      <th>MATLAB</th>\n",
              "      <td>1482</td>\n",
              "      <td>1438</td>\n",
              "      <td>122</td>\n",
              "      <td>167</td>\n",
              "    </tr>\n",
              "    <tr>\n",
              "      <th>Vim / Emacs</th>\n",
              "      <td>1393</td>\n",
              "      <td>1347</td>\n",
              "      <td>490</td>\n",
              "      <td>529</td>\n",
              "    </tr>\n",
              "    <tr>\n",
              "      <th>Other</th>\n",
              "      <td>976</td>\n",
              "      <td>1042</td>\n",
              "      <td>295</td>\n",
              "      <td>609</td>\n",
              "    </tr>\n",
              "    <tr>\n",
              "      <th>None</th>\n",
              "      <td>210</td>\n",
              "      <td>347</td>\n",
              "      <td>236</td>\n",
              "      <td>341</td>\n",
              "    </tr>\n",
              "  </tbody>\n",
              "</table>\n",
              "</div>"
            ],
            "text/plain": [
              "                                              MLobs  MLexp  noMLobs  noMLexp\n",
              "IDE                                                                         \n",
              "Jupyter (JupyterLab, Jupyter Notebooks, etc)  10382  10050      624      325\n",
              "Visual Studio                                  2150   5265      109      156\n",
              "PyCharm                                        4609   4571      829     1162\n",
              "RStudio                                        3473   3430      176       40\n",
              "Spyder                                         3054   2950      255      254\n",
              "Visual Studio Code (VSCode)                    5249   2808      409      325\n",
              "Notepad++                                      2723   2808      186      121\n",
              "Sublime Text                                   2197   2199      353      397\n",
              "MATLAB                                         1482   1438      122      167\n",
              "Vim / Emacs                                    1393   1347      490      529\n",
              "Other                                           976   1042      295      609\n",
              "None                                            210    347      236      341"
            ]
          },
          "metadata": {
            "tags": []
          },
          "execution_count": 32
        }
      ]
    },
    {
      "cell_type": "code",
      "metadata": {
        "colab": {
          "base_uri": "https://localhost:8080/"
        },
        "id": "T_yV6VOdmNgM",
        "outputId": "4fb6b99e-adbe-45e5-f944-646b56c7f258"
      },
      "source": [
        "# Chi Squared test of independence\n",
        "chi_sq = chi2_contingency([obsvsexp.get(\"MLobs\"), obsvsexp.get(\"noMLobs\")])\n",
        "chi_sq"
      ],
      "execution_count": 33,
      "outputs": [
        {
          "output_type": "execute_result",
          "data": {
            "text/plain": [
              "(2486.1669381674246,\n",
              " 0.0,\n",
              " 11,\n",
              " array([[9935.33866895, 2039.24496213, 4908.9925206 , 3294.02605879,\n",
              "         2987.10118622, 5107.59096756, 2626.01310085, 2301.93654423,\n",
              "         1447.96322233, 1699.82216188, 1147.35739126,  402.61321519],\n",
              "        [1070.66133105,  219.75503787,  529.0074794 ,  354.97394121,\n",
              "          321.89881378,  550.40903244,  282.98689915,  248.06345577,\n",
              "          156.03677767,  183.17783812,  123.64260874,   43.38678481]]))"
            ]
          },
          "metadata": {
            "tags": []
          },
          "execution_count": 33
        }
      ]
    },
    {
      "cell_type": "markdown",
      "metadata": {
        "id": "6ynIC3lVmNgN"
      },
      "source": [
        "### Question 4\n"
      ]
    },
    {
      "cell_type": "code",
      "metadata": {
        "id": "V3_gVR68nU-u"
      },
      "source": [
        "uses_jupyter = survey[\"Q9\"].str.contains('Jupyter').fillna(value=False)\n",
        "# create df with Years Experience and binary indicator for uses Jupyter\n",
        "exp_jupyter = survey.assign(Jupyter = uses_jupyter)[[\"Q6\", \"Jupyter\"]]\n",
        "exp_jupyter = exp_jupyter[exp_jupyter.get(\n",
        "    \"Q6\") != \"For how many years have you been writing code and/or programming?\"].dropna().rename(\n",
        "    columns = {\"Q6\": \"Years Experience\"})\n",
        "exp_jupyter[\"Jupyter\"] = (exp_jupyter['Jupyter'] == True).astype(int)\n",
        "# export df to R to generate logistic model\n",
        "exp_jupyter.to_csv(\"exp_jupyter.csv\")"
      ],
      "execution_count": 34,
      "outputs": []
    },
    {
      "cell_type": "code",
      "metadata": {
        "colab": {
          "base_uri": "https://localhost:8080/",
          "height": 419
        },
        "id": "Jmp5q1jMnp8U",
        "outputId": "b4f39841-3cb2-4689-dbc6-a576d2592a62"
      },
      "source": [
        "exp_jupyter"
      ],
      "execution_count": 35,
      "outputs": [
        {
          "output_type": "execute_result",
          "data": {
            "text/html": [
              "<div>\n",
              "<style scoped>\n",
              "    .dataframe tbody tr th:only-of-type {\n",
              "        vertical-align: middle;\n",
              "    }\n",
              "\n",
              "    .dataframe tbody tr th {\n",
              "        vertical-align: top;\n",
              "    }\n",
              "\n",
              "    .dataframe thead th {\n",
              "        text-align: right;\n",
              "    }\n",
              "</style>\n",
              "<table border=\"1\" class=\"dataframe\">\n",
              "  <thead>\n",
              "    <tr style=\"text-align: right;\">\n",
              "      <th></th>\n",
              "      <th>Years Experience</th>\n",
              "      <th>Jupyter</th>\n",
              "    </tr>\n",
              "  </thead>\n",
              "  <tbody>\n",
              "    <tr>\n",
              "      <th>1</th>\n",
              "      <td>5-10 years</td>\n",
              "      <td>1</td>\n",
              "    </tr>\n",
              "    <tr>\n",
              "      <th>2</th>\n",
              "      <td>5-10 years</td>\n",
              "      <td>0</td>\n",
              "    </tr>\n",
              "    <tr>\n",
              "      <th>3</th>\n",
              "      <td>10-20 years</td>\n",
              "      <td>0</td>\n",
              "    </tr>\n",
              "    <tr>\n",
              "      <th>4</th>\n",
              "      <td>5-10 years</td>\n",
              "      <td>0</td>\n",
              "    </tr>\n",
              "    <tr>\n",
              "      <th>5</th>\n",
              "      <td>3-5 years</td>\n",
              "      <td>0</td>\n",
              "    </tr>\n",
              "    <tr>\n",
              "      <th>...</th>\n",
              "      <td>...</td>\n",
              "      <td>...</td>\n",
              "    </tr>\n",
              "    <tr>\n",
              "      <th>20030</th>\n",
              "      <td>10-20 years</td>\n",
              "      <td>0</td>\n",
              "    </tr>\n",
              "    <tr>\n",
              "      <th>20033</th>\n",
              "      <td>20+ years</td>\n",
              "      <td>1</td>\n",
              "    </tr>\n",
              "    <tr>\n",
              "      <th>20034</th>\n",
              "      <td>&lt; 1 years</td>\n",
              "      <td>1</td>\n",
              "    </tr>\n",
              "    <tr>\n",
              "      <th>20035</th>\n",
              "      <td>3-5 years</td>\n",
              "      <td>1</td>\n",
              "    </tr>\n",
              "    <tr>\n",
              "      <th>20036</th>\n",
              "      <td>&lt; 1 years</td>\n",
              "      <td>1</td>\n",
              "    </tr>\n",
              "  </tbody>\n",
              "</table>\n",
              "<p>19120 rows × 2 columns</p>\n",
              "</div>"
            ],
            "text/plain": [
              "      Years Experience  Jupyter\n",
              "1           5-10 years        1\n",
              "2           5-10 years        0\n",
              "3          10-20 years        0\n",
              "4           5-10 years        0\n",
              "5            3-5 years        0\n",
              "...                ...      ...\n",
              "20030      10-20 years        0\n",
              "20033        20+ years        1\n",
              "20034        < 1 years        1\n",
              "20035        3-5 years        1\n",
              "20036        < 1 years        1\n",
              "\n",
              "[19120 rows x 2 columns]"
            ]
          },
          "metadata": {
            "tags": []
          },
          "execution_count": 35
        }
      ]
    },
    {
      "cell_type": "code",
      "metadata": {
        "id": "74aoWX8lnra_"
      },
      "source": [
        "# numbers generated from log model done in R\n",
        "def predict_jupyter_odds(yrs):\n",
        "    intercept = 0.49845\n",
        "    if isinstance(yrs, str):\n",
        "        if (yrs == \"< 1 years\"):\n",
        "            return intercept\n",
        "        if yrs == \"I have never written code\":\n",
        "            return 0\n",
        "        if yrs == \"1-2 years\":\n",
        "            return intercept + 0.11742\n",
        "        if yrs == \"10-20 years\":\n",
        "            return intercept - 0.20043\n",
        "        if yrs == \"20+ years\":\n",
        "            return intercept - 0.32798\n",
        "        if yrs == \"3-5 years\":\n",
        "            return intercept + 0.09852\n",
        "        if yrs == \"5-10 years\":\n",
        "            return intercept - 0.03417\n",
        "    elif (isinstance(yrs, int) or isinstance(yrs, float)) and (yrs >= 0):\n",
        "        if ((yrs > 0) and (yrs < 1)):\n",
        "            return intercept\n",
        "        if yrs == 0:\n",
        "            return 0\n",
        "        if (yrs >= 1) and (yrs < 3):\n",
        "            return intercept + 0.11742\n",
        "        if (yrs >= 10) and (yrs < 20):\n",
        "            result = intercept - 0.20043\n",
        "            if result < 0:\n",
        "                result = 0\n",
        "            return result\n",
        "        if yrs >= 20:\n",
        "            result = intercept - 0.32798\n",
        "            if result < 0:\n",
        "                result = 0\n",
        "            return result \n",
        "        if (yrs >= 3) and (yrs < 5):\n",
        "            return intercept + 0.09852\n",
        "        if (yrs >= 5) and (yrs < 10):\n",
        "            result = intercept - 0.03417\n",
        "            if result < 0:\n",
        "                result = 0\n",
        "            return result\n",
        "    else:\n",
        "        return \"not a valid input\""
      ],
      "execution_count": 36,
      "outputs": []
    },
    {
      "cell_type": "code",
      "metadata": {
        "colab": {
          "base_uri": "https://localhost:8080/",
          "height": 297
        },
        "id": "DcGcXQ56n7MK",
        "outputId": "a962c04d-c2de-4b98-a38f-731ea905b072"
      },
      "source": [
        "# apply predictions to all observations\n",
        "with_predict = exp_jupyter.assign(binary = exp_jupyter.get(\n",
        "    \"Years Experience\").apply(predict_jupyter_odds)).rename(columns = {\n",
        "        \"binary\":\"Uses Jupyter Prediction\"})\n",
        "# create predictions for each programming years experience subgroup\n",
        "with_predict.groupby(\"Years Experience\").mean()[[\"Uses Jupyter Prediction\"]].sort_values(\n",
        "    \"Uses Jupyter Prediction\")"
      ],
      "execution_count": 37,
      "outputs": [
        {
          "output_type": "execute_result",
          "data": {
            "text/html": [
              "<div>\n",
              "<style scoped>\n",
              "    .dataframe tbody tr th:only-of-type {\n",
              "        vertical-align: middle;\n",
              "    }\n",
              "\n",
              "    .dataframe tbody tr th {\n",
              "        vertical-align: top;\n",
              "    }\n",
              "\n",
              "    .dataframe thead th {\n",
              "        text-align: right;\n",
              "    }\n",
              "</style>\n",
              "<table border=\"1\" class=\"dataframe\">\n",
              "  <thead>\n",
              "    <tr style=\"text-align: right;\">\n",
              "      <th></th>\n",
              "      <th>Uses Jupyter Prediction</th>\n",
              "    </tr>\n",
              "    <tr>\n",
              "      <th>Years Experience</th>\n",
              "      <th></th>\n",
              "    </tr>\n",
              "  </thead>\n",
              "  <tbody>\n",
              "    <tr>\n",
              "      <th>I have never written code</th>\n",
              "      <td>0.00000</td>\n",
              "    </tr>\n",
              "    <tr>\n",
              "      <th>20+ years</th>\n",
              "      <td>0.17047</td>\n",
              "    </tr>\n",
              "    <tr>\n",
              "      <th>10-20 years</th>\n",
              "      <td>0.29802</td>\n",
              "    </tr>\n",
              "    <tr>\n",
              "      <th>5-10 years</th>\n",
              "      <td>0.46428</td>\n",
              "    </tr>\n",
              "    <tr>\n",
              "      <th>&lt; 1 years</th>\n",
              "      <td>0.49845</td>\n",
              "    </tr>\n",
              "    <tr>\n",
              "      <th>3-5 years</th>\n",
              "      <td>0.59697</td>\n",
              "    </tr>\n",
              "    <tr>\n",
              "      <th>1-2 years</th>\n",
              "      <td>0.61587</td>\n",
              "    </tr>\n",
              "  </tbody>\n",
              "</table>\n",
              "</div>"
            ],
            "text/plain": [
              "                           Uses Jupyter Prediction\n",
              "Years Experience                                  \n",
              "I have never written code                  0.00000\n",
              "20+ years                                  0.17047\n",
              "10-20 years                                0.29802\n",
              "5-10 years                                 0.46428\n",
              "< 1 years                                  0.49845\n",
              "3-5 years                                  0.59697\n",
              "1-2 years                                  0.61587"
            ]
          },
          "metadata": {
            "tags": []
          },
          "execution_count": 37
        }
      ]
    },
    {
      "cell_type": "code",
      "metadata": {
        "colab": {
          "base_uri": "https://localhost:8080/",
          "height": 299
        },
        "id": "JavgruqZo1wq",
        "outputId": "4910fb69-eeb3-4c5a-d5c3-64a36e04c174"
      },
      "source": [
        "# create visualization for predictions\n",
        "willplot = pd.DataFrame().assign(ages = np.arange(0,26, 0.1))\n",
        "willplot = willplot.assign(prop_preferred_ide = willplot.get(\"ages\").apply(predict_jupyter_odds)).rename(\n",
        "    columns = {\"prop_preferred_ide\": \"predicted uses Jupyter\"})\n",
        "plt.scatter(willplot.get(\"ages\"), willplot.get(\n",
        "    \"predicted uses Jupyter\"))\n",
        "plt.xlabel('Years of Experience', fontsize = 12)\n",
        "plt.ylabel('Uses Jupyter Prediction', fontsize = 12)\n",
        "plt.axhline(y = 0.5, color = 'red')"
      ],
      "execution_count": 38,
      "outputs": [
        {
          "output_type": "execute_result",
          "data": {
            "text/plain": [
              "<matplotlib.lines.Line2D at 0x7fbb6b212b90>"
            ]
          },
          "metadata": {
            "tags": []
          },
          "execution_count": 38
        },
        {
          "output_type": "display_data",
          "data": {
            "image/png": "[encoded data removed]",
            "text/plain": [
              "<Figure size 432x288 with 1 Axes>"
            ]
          },
          "metadata": {
            "tags": []
          }
        }
      ]
    },
    {
      "cell_type": "markdown",
      "metadata": {
        "id": "dZMW_lqTmNgO"
      },
      "source": [
        "### Question 5 (Advanced Analysis)\n"
      ]
    },
    {
      "cell_type": "code",
      "metadata": {
        "colab": {
          "base_uri": "https://localhost:8080/"
        },
        "id": "-5Q_0n4MmNgO",
        "outputId": "4a2d33ae-2727-44ca-a0a9-a120e0ba3c03"
      },
      "source": [
        "from sklearn.model_selection import train_test_split\n",
        "from sklearn import preprocessing\n",
        "from statsmodels.stats.outliers_influence import variance_inflation_factor\n",
        "from sklearn.naive_bayes import CategoricalNB, GaussianNB\n",
        "from sklearn.metrics import accuracy_score, confusion_matrix, roc_curve, roc_auc_score, recall_score, precision_score\n",
        "from sklearn.metrics import f1_score, classification_report"
      ],
      "execution_count": 39,
      "outputs": [
        {
          "output_type": "stream",
          "text": [
            "/usr/local/lib/python3.7/dist-packages/statsmodels/tools/_testing.py:19: FutureWarning: pandas.util.testing is deprecated. Use the functions in the public API at pandas.testing instead.\n",
            "  import pandas.util.testing as tm\n"
          ],
          "name": "stderr"
        }
      ]
    },
    {
      "cell_type": "code",
      "metadata": {
        "id": "vS8--UGUmNgQ"
      },
      "source": [
        "naive_bayes_qs = survey[[\"Q4\",\"Q5\", \"Q6\",\"Q9\"]]\n",
        "naive_bayes_qs = naive_bayes_qs.drop(0)"
      ],
      "execution_count": 40,
      "outputs": []
    },
    {
      "cell_type": "code",
      "metadata": {
        "id": "z3-XwvUnmNgR"
      },
      "source": [
        "naive_bayes_qs[\"Q9\"].loc[(naive_bayes_qs[\"Q9\"].str.contains('Jupyter').fillna(value = False))] = 1\n",
        "naive_bayes_qs[\"Q9\"].loc[(naive_bayes_qs[\"Q9\"]) != True] = 0\n",
        "naive_bayes = naive_bayes_qs.dropna().rename(columns = \n",
        "                                             ({\"Q5\": \"Occupation\", \"Q9\": \"Use Jupyter\",\n",
        "                                              \"Q4\": \"Education\", \"Q6\": \"Experience\"}))"
      ],
      "execution_count": 41,
      "outputs": []
    },
    {
      "cell_type": "code",
      "metadata": {
        "colab": {
          "base_uri": "https://localhost:8080/"
        },
        "id": "zZoi5hSGmNgS",
        "outputId": "f33ba70a-120f-4645-b09b-c984bbc13e53"
      },
      "source": [
        "features = naive_bayes.columns.tolist()\n",
        "features = [features[0]] + [features[2]]\n",
        "features"
      ],
      "execution_count": 42,
      "outputs": [
        {
          "output_type": "execute_result",
          "data": {
            "text/plain": [
              "['Education', 'Experience']"
            ]
          },
          "metadata": {
            "tags": []
          },
          "execution_count": 42
        }
      ]
    },
    {
      "cell_type": "code",
      "metadata": {
        "id": "cxokFjQYmNgS"
      },
      "source": [
        "le = preprocessing.LabelEncoder()\n",
        "ordin = preprocessing.OrdinalEncoder()\n",
        "features_encoded = ordin.fit_transform(naive_bayes[features])\n",
        "occupation_encoded = le.fit_transform(naive_bayes[\"Occupation\"])\n",
        "#educ_encoded = le.fit_transform(naive_bayes[\"Education\"])\n",
        "#code_exp_encoded = le.fit_transform(naive_bayes[\"Experience\"])\n",
        "jup_encoded = le.fit_transform(naive_bayes[\"Use Jupyter\"])"
      ],
      "execution_count": 43,
      "outputs": []
    },
    {
      "cell_type": "code",
      "metadata": {
        "id": "MAmgCM5RmNgT"
      },
      "source": [
        "naive_bayes_encoded = pd.DataFrame(features_encoded,columns = features)\n",
        "#naive_bayes_encoded[\"Education\"] = educ_encoded\n",
        "naive_bayes_encoded[\"Occupation\"] = occupation_encoded\n",
        "#naive_bayes_encoded[\"Experience\"] = code_exp_encoded\n",
        "naive_bayes_encoded[\"Use Jupyter\"] = jup_encoded\n"
      ],
      "execution_count": 44,
      "outputs": []
    },
    {
      "cell_type": "code",
      "metadata": {
        "colab": {
          "base_uri": "https://localhost:8080/",
          "height": 419
        },
        "id": "V1C2bQm8mNgT",
        "outputId": "c8910828-a1b3-4123-eadf-bec580ab0fb6"
      },
      "source": [
        "naive_bayes_encoded"
      ],
      "execution_count": 45,
      "outputs": [
        {
          "output_type": "execute_result",
          "data": {
            "text/html": [
              "<div>\n",
              "<style scoped>\n",
              "    .dataframe tbody tr th:only-of-type {\n",
              "        vertical-align: middle;\n",
              "    }\n",
              "\n",
              "    .dataframe tbody tr th {\n",
              "        vertical-align: top;\n",
              "    }\n",
              "\n",
              "    .dataframe thead th {\n",
              "        text-align: right;\n",
              "    }\n",
              "</style>\n",
              "<table border=\"1\" class=\"dataframe\">\n",
              "  <thead>\n",
              "    <tr style=\"text-align: right;\">\n",
              "      <th></th>\n",
              "      <th>Education</th>\n",
              "      <th>Experience</th>\n",
              "      <th>Occupation</th>\n",
              "      <th>Use Jupyter</th>\n",
              "    </tr>\n",
              "  </thead>\n",
              "  <tbody>\n",
              "    <tr>\n",
              "      <th>0</th>\n",
              "      <td>1.0</td>\n",
              "      <td>4.0</td>\n",
              "      <td>12</td>\n",
              "      <td>1</td>\n",
              "    </tr>\n",
              "    <tr>\n",
              "      <th>1</th>\n",
              "      <td>3.0</td>\n",
              "      <td>4.0</td>\n",
              "      <td>4</td>\n",
              "      <td>0</td>\n",
              "    </tr>\n",
              "    <tr>\n",
              "      <th>2</th>\n",
              "      <td>0.0</td>\n",
              "      <td>1.0</td>\n",
              "      <td>10</td>\n",
              "      <td>0</td>\n",
              "    </tr>\n",
              "    <tr>\n",
              "      <th>3</th>\n",
              "      <td>3.0</td>\n",
              "      <td>4.0</td>\n",
              "      <td>5</td>\n",
              "      <td>0</td>\n",
              "    </tr>\n",
              "    <tr>\n",
              "      <th>4</th>\n",
              "      <td>3.0</td>\n",
              "      <td>3.0</td>\n",
              "      <td>10</td>\n",
              "      <td>0</td>\n",
              "    </tr>\n",
              "    <tr>\n",
              "      <th>...</th>\n",
              "      <td>...</td>\n",
              "      <td>...</td>\n",
              "      <td>...</td>\n",
              "      <td>...</td>\n",
              "    </tr>\n",
              "    <tr>\n",
              "      <th>19115</th>\n",
              "      <td>0.0</td>\n",
              "      <td>1.0</td>\n",
              "      <td>7</td>\n",
              "      <td>0</td>\n",
              "    </tr>\n",
              "    <tr>\n",
              "      <th>19116</th>\n",
              "      <td>3.0</td>\n",
              "      <td>2.0</td>\n",
              "      <td>1</td>\n",
              "      <td>1</td>\n",
              "    </tr>\n",
              "    <tr>\n",
              "      <th>19117</th>\n",
              "      <td>3.0</td>\n",
              "      <td>5.0</td>\n",
              "      <td>9</td>\n",
              "      <td>1</td>\n",
              "    </tr>\n",
              "    <tr>\n",
              "      <th>19118</th>\n",
              "      <td>0.0</td>\n",
              "      <td>3.0</td>\n",
              "      <td>10</td>\n",
              "      <td>1</td>\n",
              "    </tr>\n",
              "    <tr>\n",
              "      <th>19119</th>\n",
              "      <td>3.0</td>\n",
              "      <td>5.0</td>\n",
              "      <td>6</td>\n",
              "      <td>1</td>\n",
              "    </tr>\n",
              "  </tbody>\n",
              "</table>\n",
              "<p>19120 rows × 4 columns</p>\n",
              "</div>"
            ],
            "text/plain": [
              "       Education  Experience  Occupation  Use Jupyter\n",
              "0            1.0         4.0          12            1\n",
              "1            3.0         4.0           4            0\n",
              "2            0.0         1.0          10            0\n",
              "3            3.0         4.0           5            0\n",
              "4            3.0         3.0          10            0\n",
              "...          ...         ...         ...          ...\n",
              "19115        0.0         1.0           7            0\n",
              "19116        3.0         2.0           1            1\n",
              "19117        3.0         5.0           9            1\n",
              "19118        0.0         3.0          10            1\n",
              "19119        3.0         5.0           6            1\n",
              "\n",
              "[19120 rows x 4 columns]"
            ]
          },
          "metadata": {
            "tags": []
          },
          "execution_count": 45
        }
      ]
    },
    {
      "cell_type": "code",
      "metadata": {
        "id": "JJhgx_4HmNgU"
      },
      "source": [
        "# Checking Naive Assumptions (if features are too highly correlated, can't do naive bayes)\n",
        "vif = pd.DataFrame()\n",
        "vif[\"Features\"] = features + [\"Occupation\"]\n",
        "vif[\"VIF\"] = [variance_inflation_factor(naive_bayes_encoded.values, i) for i in range(len(features ) + 1)]"
      ],
      "execution_count": 46,
      "outputs": []
    },
    {
      "cell_type": "code",
      "metadata": {
        "colab": {
          "base_uri": "https://localhost:8080/",
          "height": 142
        },
        "id": "jJl__3pYmNgV",
        "outputId": "c932f625-27f7-46b7-c708-a4b4c3e47f87"
      },
      "source": [
        "vif"
      ],
      "execution_count": 47,
      "outputs": [
        {
          "output_type": "execute_result",
          "data": {
            "text/html": [
              "<div>\n",
              "<style scoped>\n",
              "    .dataframe tbody tr th:only-of-type {\n",
              "        vertical-align: middle;\n",
              "    }\n",
              "\n",
              "    .dataframe tbody tr th {\n",
              "        vertical-align: top;\n",
              "    }\n",
              "\n",
              "    .dataframe thead th {\n",
              "        text-align: right;\n",
              "    }\n",
              "</style>\n",
              "<table border=\"1\" class=\"dataframe\">\n",
              "  <thead>\n",
              "    <tr style=\"text-align: right;\">\n",
              "      <th></th>\n",
              "      <th>Features</th>\n",
              "      <th>VIF</th>\n",
              "    </tr>\n",
              "  </thead>\n",
              "  <tbody>\n",
              "    <tr>\n",
              "      <th>0</th>\n",
              "      <td>Education</td>\n",
              "      <td>1.870727</td>\n",
              "    </tr>\n",
              "    <tr>\n",
              "      <th>1</th>\n",
              "      <td>Experience</td>\n",
              "      <td>2.195272</td>\n",
              "    </tr>\n",
              "    <tr>\n",
              "      <th>2</th>\n",
              "      <td>Occupation</td>\n",
              "      <td>2.630192</td>\n",
              "    </tr>\n",
              "  </tbody>\n",
              "</table>\n",
              "</div>"
            ],
            "text/plain": [
              "     Features       VIF\n",
              "0   Education  1.870727\n",
              "1  Experience  2.195272\n",
              "2  Occupation  2.630192"
            ]
          },
          "metadata": {
            "tags": []
          },
          "execution_count": 47
        }
      ]
    },
    {
      "cell_type": "code",
      "metadata": {
        "id": "hIO5ygLtmNgW"
      },
      "source": [
        "X_train, X_test, y_train, y_test = train_test_split(naive_bayes_encoded.drop(\"Use Jupyter\", axis = 1), \n",
        "                                                   naive_bayes_encoded[\"Use Jupyter\"], test_size = 0.25)"
      ],
      "execution_count": 48,
      "outputs": []
    },
    {
      "cell_type": "code",
      "metadata": {
        "colab": {
          "base_uri": "https://localhost:8080/"
        },
        "id": "BGQ1BZ-dmNgX",
        "outputId": "87df3a09-456b-4c64-f376-59c301c9f61c"
      },
      "source": [
        "cnb = CategoricalNB()\n",
        "cnb.fit(X_train, y_train)"
      ],
      "execution_count": 49,
      "outputs": [
        {
          "output_type": "execute_result",
          "data": {
            "text/plain": [
              "CategoricalNB(alpha=1.0, class_prior=None, fit_prior=True)"
            ]
          },
          "metadata": {
            "tags": []
          },
          "execution_count": 49
        }
      ]
    },
    {
      "cell_type": "code",
      "metadata": {
        "id": "SjAal9FVmNgX"
      },
      "source": [
        "y_pred_cnb = cnb.predict(X_test)\n",
        "y_prob_pred_cnb = cnb.predict_proba(X_test)"
      ],
      "execution_count": 50,
      "outputs": []
    },
    {
      "cell_type": "code",
      "metadata": {
        "id": "RAH-KSWYmNgY"
      },
      "source": [
        "count_misclassified = (y_test != y_pred_cnb).sum()"
      ],
      "execution_count": 51,
      "outputs": []
    },
    {
      "cell_type": "code",
      "metadata": {
        "colab": {
          "base_uri": "https://localhost:8080/"
        },
        "id": "p3NEHJiimNgY",
        "outputId": "8798d17e-aabb-4ca6-c6f0-a7f7d480d023"
      },
      "source": [
        "print(\"CategoricalNB\")\n",
        "print(\"=\" * 30)\n",
        "print('Misclassified samples: {}'.format(count_misclassified))\n",
        "accuracy = accuracy_score(y_test, y_pred_cnb)\n",
        "print('Accuracy: {:.2f}'.format(accuracy))"
      ],
      "execution_count": 52,
      "outputs": [
        {
          "output_type": "stream",
          "text": [
            "CategoricalNB\n",
            "==============================\n",
            "Misclassified samples: 1654\n",
            "Accuracy: 0.65\n"
          ],
          "name": "stdout"
        }
      ]
    },
    {
      "cell_type": "code",
      "metadata": {
        "colab": {
          "base_uri": "https://localhost:8080/"
        },
        "id": "sxUvx_EtmNgY",
        "outputId": "f6cbdd6a-f1d2-48f4-97ee-838ccfe747a3"
      },
      "source": [
        "print(\"Recall score : \", recall_score(y_test, y_pred_cnb , average='micro'))\n",
        "print(\"Precision score : \",precision_score(y_test, y_pred_cnb , average='micro'))\n",
        "print(\"F1 score : \",f1_score(y_test, y_pred_cnb , average='micro'))"
      ],
      "execution_count": 53,
      "outputs": [
        {
          "output_type": "stream",
          "text": [
            "Recall score :  0.6539748953974895\n",
            "Precision score :  0.6539748953974895\n",
            "F1 score :  0.6539748953974895\n"
          ],
          "name": "stdout"
        }
      ]
    },
    {
      "cell_type": "code",
      "metadata": {
        "colab": {
          "base_uri": "https://localhost:8080/"
        },
        "id": "Z5vK31xKmNgb",
        "outputId": "6d5c1bca-b29a-48b3-a91c-8d59fa1fae48"
      },
      "source": [
        "print(classification_report(y_test, y_pred_cnb))"
      ],
      "execution_count": 54,
      "outputs": [
        {
          "output_type": "stream",
          "text": [
            "              precision    recall  f1-score   support\n",
            "\n",
            "           0       0.67      0.29      0.40      1939\n",
            "           1       0.65      0.90      0.76      2841\n",
            "\n",
            "    accuracy                           0.65      4780\n",
            "   macro avg       0.66      0.60      0.58      4780\n",
            "weighted avg       0.66      0.65      0.61      4780\n",
            "\n"
          ],
          "name": "stdout"
        }
      ]
    },
    {
      "cell_type": "code",
      "metadata": {
        "colab": {
          "base_uri": "https://localhost:8080/"
        },
        "id": "A6gsQF8nmNgc",
        "outputId": "357607e1-50eb-4e0e-ee2e-5b43f9c239eb"
      },
      "source": [
        "y_pred_cnb.size"
      ],
      "execution_count": 55,
      "outputs": [
        {
          "output_type": "execute_result",
          "data": {
            "text/plain": [
              "4780"
            ]
          },
          "metadata": {
            "tags": []
          },
          "execution_count": 55
        }
      ]
    },
    {
      "cell_type": "code",
      "metadata": {
        "id": "Fx-O_2WgmNgd"
      },
      "source": [
        ""
      ],
      "execution_count": 55,
      "outputs": []
    }
  ]
}